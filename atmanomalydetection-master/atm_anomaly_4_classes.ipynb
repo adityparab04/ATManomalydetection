{
  "nbformat": 4,
  "nbformat_minor": 0,
  "metadata": {
    "colab": {
      "name": "atm_anomaly_4_classes.ipynb",
      "provenance": [],
      "collapsed_sections": [],
      "machine_shape": "hm",
      "include_colab_link": true
    },
    "kernelspec": {
      "name": "python3",
      "display_name": "Python 3"
    },
    "accelerator": "GPU"
  },
  "cells": [
    {
      "cell_type": "markdown",
      "metadata": {
        "id": "view-in-github",
        "colab_type": "text"
      },
      "source": [
        "<a href=\"https://colab.research.google.com/github/Mogaveera/atmanomalydetection/blob/master/atm_anomaly_4_classes.ipynb\" target=\"_parent\"><img src=\"https://colab.research.google.com/assets/colab-badge.svg\" alt=\"Open In Colab\"/></a>"
      ]
    },
    {
      "cell_type": "code",
      "metadata": {
        "id": "cTt3IU9RC8nB",
        "colab_type": "code",
        "outputId": "8ee98239-c127-4d15-ff15-961690a3058f",
        "colab": {
          "base_uri": "https://localhost:8080/",
          "height": 51
        }
      },
      "source": [
        "%tensorflow_version 1.x\n",
        "\n",
        "import pandas as pd\n",
        "import numpy as np\n",
        "import cv2\n",
        "import os\n",
        "import h5py\n",
        "from tqdm import tqdm\n",
        "import tensorflow as tf\n",
        "from keras.preprocessing import image\n",
        "from keras.models import Model, load_model, Sequential\n",
        "from keras.layers import Input, LSTM, Dense, Dropout, Flatten, ZeroPadding2D,Reshape\n",
        "from keras.layers.convolutional import (Conv2D, MaxPooling2D, AveragePooling2D, Conv3D, MaxPooling3D)\n",
        "from keras.layers import Bidirectional, TimeDistributed\n",
        "from keras.utils import to_categorical\n",
        "from keras.applications.imagenet_utils import preprocess_input\n",
        "from keras.optimizers import Adam\n",
        "from keras.callbacks import ModelCheckpoint, TensorBoard,EarlyStopping\n",
        "from keras.utils.io_utils import HDF5Matrix\n",
        "from keras.utils import np_utils\n",
        "\n",
        "print(tf.__version__)\n",
        "\n",
        "SEQ_LEN = 30\n",
        "BATCH_SIZE = 16\n",
        "EPOCHS = 100\n",
        "\n",
        "train_video_index = []\n",
        "test_video_index = []"
      ],
      "execution_count": 0,
      "outputs": [
        {
          "output_type": "stream",
          "text": [
            "1.15.0\n"
          ],
          "name": "stdout"
        },
        {
          "output_type": "stream",
          "text": [
            "Using TensorFlow backend.\n"
          ],
          "name": "stderr"
        }
      ]
    },
    {
      "cell_type": "code",
      "metadata": {
        "id": "QVMjx_CNDGIt",
        "colab_type": "code",
        "outputId": "b030a1b4-251d-4f46-d840-ebb106afd9c9",
        "colab": {
          "base_uri": "https://localhost:8080/",
          "height": 119
        }
      },
      "source": [
        "!git clone https://github.com/Mogaveera/atmanomaly.git"
      ],
      "execution_count": 0,
      "outputs": [
        {
          "output_type": "stream",
          "text": [
            "Cloning into 'atmanomaly'...\n",
            "remote: Enumerating objects: 159, done.\u001b[K\n",
            "remote: Total 159 (delta 0), reused 0 (delta 0), pack-reused 159\u001b[K\n",
            "Receiving objects: 100% (159/159), 203.93 MiB | 48.39 MiB/s, done.\n",
            "Resolving deltas: 100% (5/5), done.\n",
            "Checking out files: 100% (151/151), done.\n"
          ],
          "name": "stdout"
        }
      ]
    },
    {
      "cell_type": "code",
      "metadata": {
        "id": "bo1jogWNDKUb",
        "colab_type": "code",
        "colab": {}
      },
      "source": [
        "def main():\n",
        "    # Getting the data\n",
        "    df = get_data('atmanomaly/Data/data_file.csv')\n",
        "    \n",
        "    # Clean the data\n",
        "    #df_clean = clean_data(df)\n",
        "    \n",
        "    # Creating index-label maps and inverse_maps\n",
        "    label_index, index_label = get_class_dict(df)\n",
        "    \n",
        "    # Split the dataset into train and test\n",
        "    train, test = split_train_test(df)\n",
        "    \n",
        "    # Encoding the dataset\n",
        "    train_video_index = make_dataset(train, label_index, \"train\")\n",
        "    test_video_index = make_dataset(test, label_index,\"test\")\n",
        "    return (train_video_index, test_video_index)"
      ],
      "execution_count": 0,
      "outputs": []
    },
    {
      "cell_type": "code",
      "metadata": {
        "id": "GOLx9uiODN6r",
        "colab_type": "code",
        "colab": {}
      },
      "source": [
        "def get_data(path, if_pd=False):\n",
        "    \"\"\"Load our data from file.\"\"\"\n",
        "    names = ['partition', 'class', 'video_name']\n",
        "    df = pd.read_csv(path,names=names)\n",
        "    return df\n",
        "\n",
        "def get_class_dict(df):\n",
        "    class_name =  list(df['class'].unique())\n",
        "    index = np.arange(0, len(class_name))\n",
        "    label_index = dict(zip(class_name, index))\n",
        "    index_label = dict(zip(index, class_name))\n",
        "    return (label_index, index_label)\n",
        "    \n",
        "#def clean_data(df):\n",
        "#    mask = np.logical_and(df['frames'] >= SEQ_LEN, df['frames'] <= MAX_SEQ_LEN)\n",
        "#    df = df[mask]`\n",
        "#    return df\n",
        "\n",
        "def split_train_test(df):\n",
        "    partition =  (df.groupby(['partition']))\n",
        "    un = df['partition'].unique()\n",
        "    train = partition.get_group(un[0])\n",
        "    test = partition.get_group(un[1])\n",
        "    return (train, test)\n",
        "\n",
        "def preprocess_image(img):\n",
        "    img = cv2.resize(img, (299,299))\n",
        "    return preprocess_input(img)\n",
        "    \n",
        "    \n",
        "def video_to_frame(row, label_index, phase, not_created):\n",
        "    input_f = []\n",
        "    output_y = []\n",
        "    index = 0\n",
        "    cap = cv2.VideoCapture(os.path.join(\"atmanomaly/Data\",\"anomaly_dataset\",str(row[\"class\"].iloc[0]) ,str(row[\"video_name\"].iloc[0]) + \".mp4\")) \n",
        "    #print(str(row[\"class\"].iloc[0]))\n",
        "    #print(str(row[\"video_name\"].iloc[0]))\n",
        "    frameno = 1\n",
        "    imgs = []\n",
        "    length = 0\n",
        "    seq = 12\n",
        "    while (cap.isOpened()):\n",
        "      ret, frame = cap.read()\n",
        "      if ret:\n",
        "        if length < seq:\n",
        "          if frameno % 10 == 0:\n",
        "            frameno = frameno + 1\n",
        "            frame = preprocess_image(frame)\n",
        "            frame = image.img_to_array(frame)\n",
        "            frame = frame / 255\n",
        "            imgs.append(frame)\n",
        "            length = length + 1\n",
        "          else:\n",
        "            frameno = frameno + 1\n",
        "        else:\n",
        "          seq = seq + 12\n",
        "          imgs1 = np.array(imgs)\n",
        "          input_f.append(imgs1)\n",
        "          output_y.append(label_index)\n",
        "          del imgs[:]\n",
        "      else:\n",
        "        break\n",
        "\n",
        "    if not_created:\n",
        "      f = h5py.File(phase+'_4'+'.h5', 'w')\n",
        "      input_f1 = np.array(input_f)\n",
        "      output_y1 = np.array(output_y)\n",
        "      index = input_f1.shape[0]\n",
        "      if index > 0:\n",
        "        f.create_dataset(phase, data=input_f1, maxshape=(None, 12, 299, 299, 3))\n",
        "        f.create_dataset(phase+\"_labels\", data=output_y1, maxshape=(None, 4))\n",
        "        f.close()\n",
        "    else:\n",
        "      hf = h5py.File(phase+'_4'+'.h5', 'a')\n",
        "      input_f1 = np.array(input_f)\n",
        "      output_y1 = np.array(output_y)\n",
        "      index = input_f1.shape[0]\n",
        "      if index > 0:\n",
        "        hf[phase].resize((hf[phase].shape[0] + input_f1.shape[0]), axis = 0)\n",
        "        hf[phase][-input_f1.shape[0]:] = input_f1\n",
        "\n",
        "        hf[phase+\"_labels\"].resize((hf[phase+\"_labels\"].shape[0] + output_y1.shape[0]), axis = 0)\n",
        "        hf[phase+\"_labels\"][-output_y1.shape[0]:] = output_y1\n",
        "        hf.close()\n",
        "\n",
        "    del input_f[:]\n",
        "    del output_y[:]\n",
        "    del imgs[:]\n",
        "    cap.release()\n",
        "    return index\n",
        "    \n",
        "    \n",
        "\n",
        "\n",
        "def make_dataset(data, label_index, phase):\n",
        "    video_index = [0]\n",
        "    required_classes = [\"Arson\", \"Burglary\", \"Fighting\", \"normal\"]\n",
        "   \n",
        "    not_created = True\n",
        "    for i in tqdm(range(data.shape[0])):\n",
        "    # Check whether the given row , is of a class that is required\n",
        "        if str(data.iloc[[i]][\"class\"].iloc[0]) in required_classes:\n",
        "            index = required_classes.index(str(data.iloc[[i]][\"class\"].iloc[0]))\n",
        "            label_index = np.zeros((4))\n",
        "            label_index[index] = 1\n",
        "            index = video_to_frame(data.iloc[[i]], label_index, phase, not_created)\n",
        "            real_index = video_index[-1] + index\n",
        "            video_index.append(real_index)\n",
        "            if real_index > 0:\n",
        "              not_created = False\n",
        "\n",
        "    return video_index"
      ],
      "execution_count": 0,
      "outputs": []
    },
    {
      "cell_type": "code",
      "metadata": {
        "id": "Xa9JuDGnFJbl",
        "colab_type": "code",
        "outputId": "b93fe699-d533-4b7c-f906-804dbe47d257",
        "colab": {
          "base_uri": "https://localhost:8080/",
          "height": 51
        }
      },
      "source": [
        "train_video_index, test_video_index = main()"
      ],
      "execution_count": 0,
      "outputs": [
        {
          "output_type": "stream",
          "text": [
            "100%|██████████| 125/125 [03:17<00:00,  2.00s/it]\n",
            "100%|██████████| 24/24 [00:56<00:00,  2.60s/it]\n"
          ],
          "name": "stderr"
        }
      ]
    },
    {
      "cell_type": "code",
      "metadata": {
        "id": "6xZtdRrCFKRp",
        "colab_type": "code",
        "outputId": "3f5a586f-14e8-479f-f2bb-fad7a07c3126",
        "colab": {
          "base_uri": "https://localhost:8080/",
          "height": 173
        }
      },
      "source": [
        "x_train = HDF5Matrix('train_4.h5', 'train')\n",
        "y_train = HDF5Matrix('train_4.h5', 'train_labels')\n",
        "x_test = HDF5Matrix('test_4.h5', 'test')\n",
        "y_test = HDF5Matrix('test_4.h5', 'test_labels')\n",
        "\n",
        "print(x_train.shape)\n",
        "print(y_train.shape)\n",
        "print(y_train[210])\n",
        "print(x_test.shape)\n",
        "print(y_test.shape)\n",
        "print(y_test[3])\n",
        "print(train_video_index)\n",
        "print(test_video_index)"
      ],
      "execution_count": 0,
      "outputs": [
        {
          "output_type": "stream",
          "text": [
            "(702, 12, 299, 299, 3)\n",
            "(702, 4)\n",
            "[0. 1. 0. 0.]\n",
            "(176, 12, 299, 299, 3)\n",
            "(176, 4)\n",
            "[1. 0. 0. 0.]\n",
            "[0, 3, 6, 10, 13, 16, 20, 21, 23, 26, 29, 32, 37, 42, 46, 49, 57, 61, 64, 68, 68, 73, 78, 83, 86, 90, 94, 96, 99, 101, 104, 105, 106, 107, 112, 114, 118, 123, 124, 128, 131, 132, 134, 136, 145, 150, 156, 160, 164, 167, 171, 174, 180, 187, 192, 198, 217, 221, 244, 266, 269, 271, 278, 280, 282, 285, 286, 289, 295, 296, 298, 301, 312, 316, 327, 333, 334, 345, 363, 369, 378, 381, 387, 390, 398, 412, 417, 424, 425, 429, 434, 440, 445, 448, 457, 461, 470, 477, 485, 492, 499, 504, 514, 521, 529, 545, 550, 558, 565, 569, 578, 585, 592, 600, 610, 628, 641, 648, 656, 666, 672, 681, 685, 693, 696, 702]\n",
            "[0, 1, 3, 4, 5, 9, 12, 17, 21, 42, 48, 60, 61, 68, 75, 87, 92, 110, 116, 134, 140, 150, 157, 163, 176]\n"
          ],
          "name": "stdout"
        }
      ]
    },
    {
      "cell_type": "code",
      "metadata": {
        "id": "MdbPFBLhFP2d",
        "colab_type": "code",
        "colab": {}
      },
      "source": [
        "def model():\n",
        "    \"\"\"Build a simple LSTM network. We pass the extracted features from\n",
        "    our CNN to this model predominantly.\"\"\"\n",
        "    input_shape = (12, 299, 299, 3)\n",
        "    # Model.\n",
        "    model = Sequential()\n",
        "    \n",
        "    model.add(Conv3D(64, kernel_size=(3, 3, 3), activation='relu', border_mode='same', name='conv1', subsample=(1, 1, 1), input_shape=input_shape))\n",
        "    model.add(MaxPooling3D(pool_size=(1, 2, 2), strides=(1, 2, 2), border_mode='valid', name='pool1'))\n",
        "      \n",
        "    model.add(Conv3D(128, kernel_size=(3, 3, 3), activation='relu', border_mode='same', name='conv2', subsample=(1, 1, 1)))\n",
        "    model.add(MaxPooling3D(pool_size=(1, 2, 2), strides=(1, 2, 2), border_mode='valid', name='pool2'))\n",
        "    \n",
        "    model.add(Conv3D(256, kernel_size=(3, 3, 3),activation='relu', border_mode='same', name='conv3a', subsample=(1, 1, 1)))\n",
        "    model.add(Conv3D(256, kernel_size=(1, 3, 3), activation='relu', border_mode='valid', name='conv3b', subsample=(1, 1, 1)))\n",
        "    model.add(MaxPooling3D(pool_size=(1, 2, 2), strides=(1, 2, 2), border_mode='valid', name='pool3'))\n",
        "    \n",
        "    model.add(Conv3D(512, kernel_size=(1, 3, 3), activation='relu', border_mode='valid', name='conv4a', subsample=(1, 1, 1)))\n",
        "    model.add(Conv3D(512, kernel_size=(1, 3, 3), activation='relu', border_mode='valid', name='conv4b', subsample=(1, 1, 1)))\n",
        "    model.add(MaxPooling3D(pool_size=(1, 3, 3), strides=(1, 2, 2), border_mode='valid', name='pool4'))\n",
        "    \n",
        "    model.add(Conv3D(512, kernel_size=(1, 3, 3), activation='relu', border_mode='valid', name='conv5a', subsample=(1, 1, 1)))\n",
        "    model.add(Conv3D(512, kernel_size=(1, 3, 3), activation='relu', border_mode='valid', name='conv5b', subsample=(1, 1, 1)))\n",
        "    #model.add(ZeroPadding3D(padding=(0, 1, 1)))\n",
        "    model.add(MaxPooling3D(pool_size=(1, 3, 3), strides=(1, 3, 3), border_mode='valid', name='pool5'))\n",
        "    \n",
        "    # model.add(Dense(2048, activation='relu', name='fc7'))\n",
        "    \n",
        "    # model.add(Flatten())\n",
        "    \n",
        "    model.add(Reshape((12, 3 * 3 * 512), input_shape=(12, 3, 3, 512)))\n",
        "    \n",
        "    model.add(Bidirectional(LSTM(512)))\n",
        "    model.add(Dropout(0.5))\n",
        "    \n",
        "    model.add(Dense(512, activation='relu', name='fc9'))\n",
        "    model.add(Dropout(0.5))\n",
        "    \n",
        "    model.add(Dense(4, activation='softmax'))\n",
        "    #model.add(Dense(10, activation='softmax'))\"\"\"\n",
        "    checkpoint = ModelCheckpoint(filepath='models\\\\checkpoint-{epoch:02d}-{val_loss:.2f}.hdf5')\n",
        "    \n",
        "    tb_callback = TensorBoard(\n",
        "    log_dir=\"logs\",\n",
        "    histogram_freq=2,\n",
        "    write_graph=True\n",
        "    )\n",
        "    \n",
        "    callback_list = [checkpoint]\n",
        "    \n",
        "    optimizer = Adam(lr=1e-5, decay=1e-6)\n",
        "    metrics = ['accuracy', 'top_k_categorical_accuracy']\n",
        "    model.compile(loss='categorical_crossentropy', optimizer=optimizer,metrics=['accuracy'])\n",
        "    #return model, callback_list\n",
        "    #model.compile(optimizer = tf.train.AdamOptimizer(),\n",
        "    #          loss = 'categorical_crossentropy',\n",
        "    #        metrics=['accuracy'])\n",
        "    return model, callback_list\n"
      ],
      "execution_count": 0,
      "outputs": []
    },
    {
      "cell_type": "code",
      "metadata": {
        "id": "HdZFdLaqWk5T",
        "colab_type": "code",
        "outputId": "15839750-fc9b-42a7-9ea6-ae01994455ec",
        "colab": {
          "base_uri": "https://localhost:8080/",
          "height": 1000
        }
      },
      "source": [
        "model, callback_list = model()\n",
        "model.summary()"
      ],
      "execution_count": 0,
      "outputs": [
        {
          "output_type": "stream",
          "text": [
            "WARNING:tensorflow:From /usr/local/lib/python3.6/dist-packages/keras/backend/tensorflow_backend.py:66: The name tf.get_default_graph is deprecated. Please use tf.compat.v1.get_default_graph instead.\n",
            "\n",
            "WARNING:tensorflow:From /usr/local/lib/python3.6/dist-packages/keras/backend/tensorflow_backend.py:541: The name tf.placeholder is deprecated. Please use tf.compat.v1.placeholder instead.\n",
            "\n",
            "WARNING:tensorflow:From /usr/local/lib/python3.6/dist-packages/keras/backend/tensorflow_backend.py:4432: The name tf.random_uniform is deprecated. Please use tf.random.uniform instead.\n",
            "\n"
          ],
          "name": "stdout"
        },
        {
          "output_type": "stream",
          "text": [
            "/usr/local/lib/python3.6/dist-packages/ipykernel_launcher.py:8: UserWarning: Update your `Conv3D` call to the Keras 2 API: `Conv3D(64, kernel_size=(3, 3, 3), activation=\"relu\", name=\"conv1\", input_shape=(12, 299, ..., strides=(1, 1, 1), padding=\"same\")`\n",
            "  \n",
            "/usr/local/lib/python3.6/dist-packages/ipykernel_launcher.py:9: UserWarning: Update your `MaxPooling3D` call to the Keras 2 API: `MaxPooling3D(pool_size=(1, 2, 2), strides=(1, 2, 2), name=\"pool1\", padding=\"valid\")`\n",
            "  if __name__ == '__main__':\n",
            "/usr/local/lib/python3.6/dist-packages/ipykernel_launcher.py:11: UserWarning: Update your `Conv3D` call to the Keras 2 API: `Conv3D(128, kernel_size=(3, 3, 3), activation=\"relu\", name=\"conv2\", strides=(1, 1, 1), padding=\"same\")`\n",
            "  # This is added back by InteractiveShellApp.init_path()\n",
            "/usr/local/lib/python3.6/dist-packages/ipykernel_launcher.py:12: UserWarning: Update your `MaxPooling3D` call to the Keras 2 API: `MaxPooling3D(pool_size=(1, 2, 2), strides=(1, 2, 2), name=\"pool2\", padding=\"valid\")`\n",
            "  if sys.path[0] == '':\n",
            "/usr/local/lib/python3.6/dist-packages/ipykernel_launcher.py:14: UserWarning: Update your `Conv3D` call to the Keras 2 API: `Conv3D(256, kernel_size=(3, 3, 3), activation=\"relu\", name=\"conv3a\", strides=(1, 1, 1), padding=\"same\")`\n",
            "  \n",
            "/usr/local/lib/python3.6/dist-packages/ipykernel_launcher.py:15: UserWarning: Update your `Conv3D` call to the Keras 2 API: `Conv3D(256, kernel_size=(1, 3, 3), activation=\"relu\", name=\"conv3b\", strides=(1, 1, 1), padding=\"valid\")`\n",
            "  from ipykernel import kernelapp as app\n",
            "/usr/local/lib/python3.6/dist-packages/ipykernel_launcher.py:16: UserWarning: Update your `MaxPooling3D` call to the Keras 2 API: `MaxPooling3D(pool_size=(1, 2, 2), strides=(1, 2, 2), name=\"pool3\", padding=\"valid\")`\n",
            "  app.launch_new_instance()\n",
            "/usr/local/lib/python3.6/dist-packages/ipykernel_launcher.py:18: UserWarning: Update your `Conv3D` call to the Keras 2 API: `Conv3D(512, kernel_size=(1, 3, 3), activation=\"relu\", name=\"conv4a\", strides=(1, 1, 1), padding=\"valid\")`\n",
            "/usr/local/lib/python3.6/dist-packages/ipykernel_launcher.py:19: UserWarning: Update your `Conv3D` call to the Keras 2 API: `Conv3D(512, kernel_size=(1, 3, 3), activation=\"relu\", name=\"conv4b\", strides=(1, 1, 1), padding=\"valid\")`\n",
            "/usr/local/lib/python3.6/dist-packages/ipykernel_launcher.py:20: UserWarning: Update your `MaxPooling3D` call to the Keras 2 API: `MaxPooling3D(pool_size=(1, 3, 3), strides=(1, 2, 2), name=\"pool4\", padding=\"valid\")`\n",
            "/usr/local/lib/python3.6/dist-packages/ipykernel_launcher.py:22: UserWarning: Update your `Conv3D` call to the Keras 2 API: `Conv3D(512, kernel_size=(1, 3, 3), activation=\"relu\", name=\"conv5a\", strides=(1, 1, 1), padding=\"valid\")`\n",
            "/usr/local/lib/python3.6/dist-packages/ipykernel_launcher.py:23: UserWarning: Update your `Conv3D` call to the Keras 2 API: `Conv3D(512, kernel_size=(1, 3, 3), activation=\"relu\", name=\"conv5b\", strides=(1, 1, 1), padding=\"valid\")`\n",
            "/usr/local/lib/python3.6/dist-packages/ipykernel_launcher.py:25: UserWarning: Update your `MaxPooling3D` call to the Keras 2 API: `MaxPooling3D(pool_size=(1, 3, 3), strides=(1, 3, 3), name=\"pool5\", padding=\"valid\")`\n"
          ],
          "name": "stderr"
        },
        {
          "output_type": "stream",
          "text": [
            "WARNING:tensorflow:From /usr/local/lib/python3.6/dist-packages/keras/backend/tensorflow_backend.py:148: The name tf.placeholder_with_default is deprecated. Please use tf.compat.v1.placeholder_with_default instead.\n",
            "\n",
            "WARNING:tensorflow:From /usr/local/lib/python3.6/dist-packages/keras/backend/tensorflow_backend.py:3733: calling dropout (from tensorflow.python.ops.nn_ops) with keep_prob is deprecated and will be removed in a future version.\n",
            "Instructions for updating:\n",
            "Please use `rate` instead of `keep_prob`. Rate should be set to `rate = 1 - keep_prob`.\n",
            "WARNING:tensorflow:From /usr/local/lib/python3.6/dist-packages/keras/optimizers.py:793: The name tf.train.Optimizer is deprecated. Please use tf.compat.v1.train.Optimizer instead.\n",
            "\n",
            "WARNING:tensorflow:From /usr/local/lib/python3.6/dist-packages/keras/backend/tensorflow_backend.py:3576: The name tf.log is deprecated. Please use tf.math.log instead.\n",
            "\n",
            "Model: \"sequential_1\"\n",
            "_________________________________________________________________\n",
            "Layer (type)                 Output Shape              Param #   \n",
            "=================================================================\n",
            "conv1 (Conv3D)               (None, 12, 299, 299, 64)  5248      \n",
            "_________________________________________________________________\n",
            "pool1 (MaxPooling3D)         (None, 12, 149, 149, 64)  0         \n",
            "_________________________________________________________________\n",
            "conv2 (Conv3D)               (None, 12, 149, 149, 128) 221312    \n",
            "_________________________________________________________________\n",
            "pool2 (MaxPooling3D)         (None, 12, 74, 74, 128)   0         \n",
            "_________________________________________________________________\n",
            "conv3a (Conv3D)              (None, 12, 74, 74, 256)   884992    \n",
            "_________________________________________________________________\n",
            "conv3b (Conv3D)              (None, 12, 72, 72, 256)   590080    \n",
            "_________________________________________________________________\n",
            "pool3 (MaxPooling3D)         (None, 12, 36, 36, 256)   0         \n",
            "_________________________________________________________________\n",
            "conv4a (Conv3D)              (None, 12, 34, 34, 512)   1180160   \n",
            "_________________________________________________________________\n",
            "conv4b (Conv3D)              (None, 12, 32, 32, 512)   2359808   \n",
            "_________________________________________________________________\n",
            "pool4 (MaxPooling3D)         (None, 12, 15, 15, 512)   0         \n",
            "_________________________________________________________________\n",
            "conv5a (Conv3D)              (None, 12, 13, 13, 512)   2359808   \n",
            "_________________________________________________________________\n",
            "conv5b (Conv3D)              (None, 12, 11, 11, 512)   2359808   \n",
            "_________________________________________________________________\n",
            "pool5 (MaxPooling3D)         (None, 12, 3, 3, 512)     0         \n",
            "_________________________________________________________________\n",
            "reshape_1 (Reshape)          (None, 12, 4608)          0         \n",
            "_________________________________________________________________\n",
            "bidirectional_1 (Bidirection (None, 1024)              20975616  \n",
            "_________________________________________________________________\n",
            "dropout_1 (Dropout)          (None, 1024)              0         \n",
            "_________________________________________________________________\n",
            "fc9 (Dense)                  (None, 512)               524800    \n",
            "_________________________________________________________________\n",
            "dropout_2 (Dropout)          (None, 512)               0         \n",
            "_________________________________________________________________\n",
            "dense_1 (Dense)              (None, 4)                 2052      \n",
            "=================================================================\n",
            "Total params: 31,463,684\n",
            "Trainable params: 31,463,684\n",
            "Non-trainable params: 0\n",
            "_________________________________________________________________\n"
          ],
          "name": "stdout"
        }
      ]
    },
    {
      "cell_type": "code",
      "metadata": {
        "id": "_UZXBVoGWqz5",
        "colab_type": "code",
        "outputId": "60f073d0-4a15-40f7-d1b1-f668c6ab2927",
        "colab": {
          "base_uri": "https://localhost:8080/",
          "height": 1000
        }
      },
      "source": [
        "model.fit(x_train, y_train, batch_size = 6, epochs = 20,verbose = 2, validation_data = (x_test, y_test), shuffle = 'batch',callbacks=callback_list)\n",
        "model.save(\"atm_anomaly_4classes_usingconv3d.h5\")"
      ],
      "execution_count": 0,
      "outputs": [
        {
          "output_type": "stream",
          "text": [
            "WARNING:tensorflow:From /usr/local/lib/python3.6/dist-packages/tensorflow_core/python/ops/math_grad.py:1424: where (from tensorflow.python.ops.array_ops) is deprecated and will be removed in a future version.\n",
            "Instructions for updating:\n",
            "Use tf.where in 2.0, which has the same broadcast rule as np.where\n",
            "WARNING:tensorflow:From /usr/local/lib/python3.6/dist-packages/keras/backend/tensorflow_backend.py:1033: The name tf.assign_add is deprecated. Please use tf.compat.v1.assign_add instead.\n",
            "\n",
            "WARNING:tensorflow:From /usr/local/lib/python3.6/dist-packages/keras/backend/tensorflow_backend.py:1020: The name tf.assign is deprecated. Please use tf.compat.v1.assign instead.\n",
            "\n",
            "WARNING:tensorflow:From /usr/local/lib/python3.6/dist-packages/keras/backend/tensorflow_backend.py:3005: The name tf.Session is deprecated. Please use tf.compat.v1.Session instead.\n",
            "\n",
            "Train on 702 samples, validate on 176 samples\n",
            "Epoch 1/20\n",
            "WARNING:tensorflow:From /usr/local/lib/python3.6/dist-packages/keras/backend/tensorflow_backend.py:190: The name tf.get_default_session is deprecated. Please use tf.compat.v1.get_default_session instead.\n",
            "\n",
            "WARNING:tensorflow:From /usr/local/lib/python3.6/dist-packages/keras/backend/tensorflow_backend.py:197: The name tf.ConfigProto is deprecated. Please use tf.compat.v1.ConfigProto instead.\n",
            "\n",
            "WARNING:tensorflow:From /usr/local/lib/python3.6/dist-packages/keras/backend/tensorflow_backend.py:207: The name tf.global_variables is deprecated. Please use tf.compat.v1.global_variables instead.\n",
            "\n",
            "WARNING:tensorflow:From /usr/local/lib/python3.6/dist-packages/keras/backend/tensorflow_backend.py:216: The name tf.is_variable_initialized is deprecated. Please use tf.compat.v1.is_variable_initialized instead.\n",
            "\n",
            "WARNING:tensorflow:From /usr/local/lib/python3.6/dist-packages/keras/backend/tensorflow_backend.py:223: The name tf.variables_initializer is deprecated. Please use tf.compat.v1.variables_initializer instead.\n",
            "\n",
            " - 258s - loss: 1.3820 - acc: 0.3191 - val_loss: 1.3538 - val_acc: 0.3409\n",
            "Epoch 2/20\n",
            " - 297s - loss: 1.3437 - acc: 0.3490 - val_loss: 1.2532 - val_acc: 0.3409\n",
            "Epoch 3/20\n",
            " - 207s - loss: 1.2666 - acc: 0.4017 - val_loss: 1.1314 - val_acc: 0.4886\n",
            "Epoch 4/20\n",
            " - 207s - loss: 1.1806 - acc: 0.4786 - val_loss: 1.0097 - val_acc: 0.5568\n",
            "Epoch 5/20\n",
            " - 207s - loss: 1.0177 - acc: 0.5527 - val_loss: 0.9502 - val_acc: 0.6875\n",
            "Epoch 6/20\n",
            " - 208s - loss: 0.8927 - acc: 0.6011 - val_loss: 0.9856 - val_acc: 0.4886\n",
            "Epoch 7/20\n",
            " - 207s - loss: 0.8509 - acc: 0.6125 - val_loss: 0.9367 - val_acc: 0.5966\n",
            "Epoch 8/20\n",
            " - 207s - loss: 0.7087 - acc: 0.6966 - val_loss: 1.0774 - val_acc: 0.6307\n",
            "Epoch 9/20\n",
            " - 207s - loss: 0.6990 - acc: 0.7123 - val_loss: 1.0409 - val_acc: 0.6477\n",
            "Epoch 10/20\n",
            " - 207s - loss: 0.5190 - acc: 0.8020 - val_loss: 1.1275 - val_acc: 0.6080\n",
            "Epoch 11/20\n",
            " - 207s - loss: 0.4813 - acc: 0.8191 - val_loss: 1.1530 - val_acc: 0.5341\n",
            "Epoch 12/20\n",
            " - 207s - loss: 0.4432 - acc: 0.8376 - val_loss: 1.2851 - val_acc: 0.6534\n",
            "Epoch 13/20\n",
            " - 207s - loss: 0.4377 - acc: 0.8219 - val_loss: 1.3243 - val_acc: 0.6875\n",
            "Epoch 14/20\n",
            " - 207s - loss: 0.3445 - acc: 0.8746 - val_loss: 1.3859 - val_acc: 0.6761\n",
            "Epoch 15/20\n",
            " - 207s - loss: 0.2902 - acc: 0.9031 - val_loss: 1.5014 - val_acc: 0.6534\n",
            "Epoch 16/20\n",
            " - 207s - loss: 0.2667 - acc: 0.9160 - val_loss: 1.4366 - val_acc: 0.6364\n",
            "Epoch 17/20\n",
            " - 207s - loss: 0.2781 - acc: 0.9145 - val_loss: 1.4305 - val_acc: 0.6420\n",
            "Epoch 18/20\n",
            " - 207s - loss: 0.2280 - acc: 0.9302 - val_loss: 1.4627 - val_acc: 0.6648\n",
            "Epoch 19/20\n",
            " - 207s - loss: 0.1985 - acc: 0.9402 - val_loss: 1.4063 - val_acc: 0.7330\n",
            "Epoch 20/20\n",
            "WARNING:tensorflow:From /usr/local/lib/python3.6/dist-packages/tensorflow_core/python/ops/math_grad.py:1424: where (from tensorflow.python.ops.array_ops) is deprecated and will be removed in a future version.\n",
            "Instructions for updating:\n",
            "Use tf.where in 2.0, which has the same broadcast rule as np.where\n",
            "WARNING:tensorflow:From /usr/local/lib/python3.6/dist-packages/keras/backend/tensorflow_backend.py:1033: The name tf.assign_add is deprecated. Please use tf.compat.v1.assign_add instead.\n",
            "\n",
            "WARNING:tensorflow:From /usr/local/lib/python3.6/dist-packages/keras/backend/tensorflow_backend.py:1020: The name tf.assign is deprecated. Please use tf.compat.v1.assign instead.\n",
            "\n",
            "WARNING:tensorflow:From /usr/local/lib/python3.6/dist-packages/keras/backend/tensorflow_backend.py:3005: The name tf.Session is deprecated. Please use tf.compat.v1.Session instead.\n",
            "\n",
            "Train on 702 samples, validate on 176 samples\n",
            "Epoch 1/20\n",
            "WARNING:tensorflow:From /usr/local/lib/python3.6/dist-packages/keras/backend/tensorflow_backend.py:190: The name tf.get_default_session is deprecated. Please use tf.compat.v1.get_default_session instead.\n",
            "\n",
            "WARNING:tensorflow:From /usr/local/lib/python3.6/dist-packages/keras/backend/tensorflow_backend.py:197: The name tf.ConfigProto is deprecated. Please use tf.compat.v1.ConfigProto instead.\n",
            "\n",
            "WARNING:tensorflow:From /usr/local/lib/python3.6/dist-packages/keras/backend/tensorflow_backend.py:207: The name tf.global_variables is deprecated. Please use tf.compat.v1.global_variables instead.\n",
            "\n",
            "WARNING:tensorflow:From /usr/local/lib/python3.6/dist-packages/keras/backend/tensorflow_backend.py:216: The name tf.is_variable_initialized is deprecated. Please use tf.compat.v1.is_variable_initialized instead.\n",
            "\n",
            "WARNING:tensorflow:From /usr/local/lib/python3.6/dist-packages/keras/backend/tensorflow_backend.py:223: The name tf.variables_initializer is deprecated. Please use tf.compat.v1.variables_initializer instead.\n",
            "\n",
            " - 258s - loss: 1.3820 - acc: 0.3191 - val_loss: 1.3538 - val_acc: 0.3409\n",
            "Epoch 2/20\n",
            " - 297s - loss: 1.3437 - acc: 0.3490 - val_loss: 1.2532 - val_acc: 0.3409\n",
            "Epoch 3/20\n",
            " - 207s - loss: 1.2666 - acc: 0.4017 - val_loss: 1.1314 - val_acc: 0.4886\n",
            "Epoch 4/20\n",
            " - 207s - loss: 1.1806 - acc: 0.4786 - val_loss: 1.0097 - val_acc: 0.5568\n",
            "Epoch 5/20\n",
            " - 207s - loss: 1.0177 - acc: 0.5527 - val_loss: 0.9502 - val_acc: 0.6875\n",
            "Epoch 6/20\n",
            " - 208s - loss: 0.8927 - acc: 0.6011 - val_loss: 0.9856 - val_acc: 0.4886\n",
            "Epoch 7/20\n",
            " - 207s - loss: 0.8509 - acc: 0.6125 - val_loss: 0.9367 - val_acc: 0.5966\n",
            "Epoch 8/20\n",
            " - 207s - loss: 0.7087 - acc: 0.6966 - val_loss: 1.0774 - val_acc: 0.6307\n",
            "Epoch 9/20\n",
            " - 207s - loss: 0.6990 - acc: 0.7123 - val_loss: 1.0409 - val_acc: 0.6477\n",
            "Epoch 10/20\n",
            " - 207s - loss: 0.5190 - acc: 0.8020 - val_loss: 1.1275 - val_acc: 0.6080\n",
            "Epoch 11/20\n",
            " - 207s - loss: 0.4813 - acc: 0.8191 - val_loss: 1.1530 - val_acc: 0.5341\n",
            "Epoch 12/20\n",
            " - 207s - loss: 0.4432 - acc: 0.8376 - val_loss: 1.2851 - val_acc: 0.6534\n",
            "Epoch 13/20\n",
            " - 207s - loss: 0.4377 - acc: 0.8219 - val_loss: 1.3243 - val_acc: 0.6875\n",
            "Epoch 14/20\n",
            " - 207s - loss: 0.3445 - acc: 0.8746 - val_loss: 1.3859 - val_acc: 0.6761\n",
            "Epoch 15/20\n",
            " - 207s - loss: 0.2902 - acc: 0.9031 - val_loss: 1.5014 - val_acc: 0.6534\n",
            "Epoch 16/20\n",
            " - 207s - loss: 0.2667 - acc: 0.9160 - val_loss: 1.4366 - val_acc: 0.6364\n",
            "Epoch 17/20\n",
            " - 207s - loss: 0.2781 - acc: 0.9145 - val_loss: 1.4305 - val_acc: 0.6420\n",
            "Epoch 18/20\n",
            " - 207s - loss: 0.2280 - acc: 0.9302 - val_loss: 1.4627 - val_acc: 0.6648\n",
            "Epoch 19/20\n",
            " - 207s - loss: 0.1985 - acc: 0.9402 - val_loss: 1.4063 - val_acc: 0.7330\n",
            "Epoch 20/20\n",
            " - 207s - loss: 0.1647 - acc: 0.9402 - val_loss: 1.4476 - val_acc: 0.6648\n",
            " - 207s - loss: 0.1647 - acc: 0.9402 - val_loss: 1.4476 - val_acc: 0.6648\n"
          ],
          "name": "stdout"
        }
      ]
    },
    {
      "cell_type": "code",
      "metadata": {
        "id": "vdRDgRq0Wxcp",
        "colab_type": "code",
        "outputId": "bdf83125-f3ad-489f-f5c0-ce9563b4c469",
        "colab": {
          "base_uri": "https://localhost:8080/",
          "height": 85
        }
      },
      "source": [
        "test_loss, test_acc = model.evaluate(x_test, y_test, batch_size=6)\n",
        "print(\"accuracy: \", test_acc)"
      ],
      "execution_count": 0,
      "outputs": [
        {
          "output_type": "stream",
          "text": [
            "176/176 [==============================] - 20s 113ms/step\n",
            "176/176 [==============================] - 20s 113ms/step\n",
            "accuracy:  0.6647727269340645\n",
            "accuracy:  0.6647727269340645\n"
          ],
          "name": "stdout"
        }
      ]
    },
    {
      "cell_type": "code",
      "metadata": {
        "id": "QCWp-Fv5lgdG",
        "colab_type": "code",
        "outputId": "6147ae80-abfd-47c7-96d4-6f0652bedca8",
        "colab": {
          "base_uri": "https://localhost:8080/",
          "height": 51
        }
      },
      "source": [
        "img = []\n",
        "img.append(x_test[5])\n",
        "imgs1 = np.array(img)\n",
        "\n",
        "pred = model.predict_classes(imgs1)\n",
        "print(pred)"
      ],
      "execution_count": 0,
      "outputs": [
        {
          "output_type": "stream",
          "text": [
            "[2]\n",
            "[2]\n"
          ],
          "name": "stdout"
        }
      ]
    },
    {
      "cell_type": "code",
      "metadata": {
        "id": "tWnRbQQNpQkU",
        "colab_type": "code",
        "colab": {}
      },
      "source": [
        ""
      ],
      "execution_count": 0,
      "outputs": []
    }
  ]
}